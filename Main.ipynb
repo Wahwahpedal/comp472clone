{
 "cells": [
  {
   "cell_type": "code",
   "execution_count": null,
   "metadata": {},
   "outputs": [
    {
     "name": "stdout",
     "output_type": "stream",
     "text": [
      "Enter player one's name: Tara\n",
      "Enter player two's name: Alex\n",
      "Welcome to the X-Rudder Game! Here's the initial board:\n",
      "\u001b[31m\u001b[1mA \u001b[34m B \u001b[0m -> \u001b[32m W \u001b[0m -> \u001b[34m B \u001b[0m -> \u001b[32m W \u001b[0m -> \u001b[34m B \u001b[0m -> \u001b[32m W \u001b[0m -> \u001b[34m B \u001b[0m -> \u001b[32m W \u001b[0m -> \u001b[34m B \u001b[0m -> \u001b[32m W \n",
      "\u001b[31m\u001b[1mB \u001b[32m W \u001b[0m -> \u001b[34m B \u001b[0m -> \u001b[32m W \u001b[0m -> \u001b[34m B \u001b[0m -> \u001b[32m W \u001b[0m -> \u001b[34m B \u001b[0m -> \u001b[32m W \u001b[0m -> \u001b[34m B \u001b[0m -> \u001b[32m W \u001b[0m -> \u001b[34m B \n",
      "\u001b[31m\u001b[1mC \u001b[34m B \u001b[0m -> \u001b[32m W \u001b[0m -> \u001b[34m B \u001b[0m -> \u001b[32m W \u001b[0m -> \u001b[34m B \u001b[0m -> \u001b[32m W \u001b[0m -> \u001b[34m B \u001b[0m -> \u001b[32m W \u001b[0m -> \u001b[34m B \u001b[0m -> \u001b[32m W \n",
      "\u001b[31m\u001b[1mD \u001b[32m W \u001b[0m -> \u001b[34m B \u001b[0m -> \u001b[32m W \u001b[0m -> \u001b[34m B \u001b[0m -> \u001b[32m W \u001b[0m -> \u001b[34m B \u001b[0m -> \u001b[32m W \u001b[0m -> \u001b[34m B \u001b[0m -> \u001b[32m W \u001b[0m -> \u001b[34m B \n",
      "\u001b[31m\u001b[1mE \u001b[34m B \u001b[0m -> \u001b[32m W \u001b[0m -> \u001b[34m B \u001b[0m -> \u001b[32m W \u001b[0m -> \u001b[34m B \u001b[0m -> \u001b[32m W \u001b[0m -> \u001b[34m B \u001b[0m -> \u001b[32m W \u001b[0m -> \u001b[34m B \u001b[0m -> \u001b[32m W \n",
      "\u001b[31m\u001b[1mF \u001b[32m W \u001b[0m -> \u001b[34m B \u001b[0m -> \u001b[32m W \u001b[0m -> \u001b[34m B \u001b[0m -> \u001b[32m W \u001b[0m -> \u001b[34m B \u001b[0m -> \u001b[32m W \u001b[0m -> \u001b[34m B \u001b[0m -> \u001b[32m W \u001b[0m -> \u001b[34m B \n",
      "\u001b[31m\u001b[1mG \u001b[34m B \u001b[0m -> \u001b[32m W \u001b[0m -> \u001b[34m B \u001b[0m -> \u001b[32m W \u001b[0m -> \u001b[34m B \u001b[0m -> \u001b[32m W \u001b[0m -> \u001b[34m B \u001b[0m -> \u001b[32m W \u001b[0m -> \u001b[34m B \u001b[0m -> \u001b[32m W \n",
      "\u001b[31m\u001b[1mH \u001b[32m W \u001b[0m -> \u001b[34m B \u001b[0m -> \u001b[32m W \u001b[0m -> \u001b[34m B \u001b[0m -> \u001b[32m W \u001b[0m -> \u001b[34m B \u001b[0m -> \u001b[32m W \u001b[0m -> \u001b[34m B \u001b[0m -> \u001b[32m W \u001b[0m -> \u001b[34m B \n",
      "\u001b[31m\u001b[1mI \u001b[34m B \u001b[0m -> \u001b[32m W \u001b[0m -> \u001b[34m B \u001b[0m -> \u001b[32m W \u001b[0m -> \u001b[34m B \u001b[0m -> \u001b[32m W \u001b[0m -> \u001b[34m B \u001b[0m -> \u001b[32m W \u001b[0m -> \u001b[34m B \u001b[0m -> \u001b[32m W \n",
      "\u001b[31m\u001b[1mJ \u001b[32m W \u001b[0m -> \u001b[34m B \u001b[0m -> \u001b[32m W \u001b[0m -> \u001b[34m B \u001b[0m -> \u001b[32m W \u001b[0m -> \u001b[34m B \u001b[0m -> \u001b[32m W \u001b[0m -> \u001b[34m B \u001b[0m -> \u001b[32m W \u001b[0m -> \u001b[34m B \n",
      "\u001b[31m\u001b[1mK \u001b[34m B \u001b[0m -> \u001b[32m W \u001b[0m -> \u001b[34m B \u001b[0m -> \u001b[32m W \u001b[0m -> \u001b[34m B \u001b[0m -> \u001b[32m W \u001b[0m -> \u001b[34m B \u001b[0m -> \u001b[32m W \u001b[0m -> \u001b[34m B \u001b[0m -> \u001b[32m W \n",
      "\u001b[31m\u001b[1mL \u001b[32m W \u001b[0m -> \u001b[34m B \u001b[0m -> \u001b[32m W \u001b[0m -> \u001b[34m B \u001b[0m -> \u001b[32m W \u001b[0m -> \u001b[34m B \u001b[0m -> \u001b[32m W \u001b[0m -> \u001b[34m B \u001b[0m -> \u001b[32m W \u001b[0m -> \u001b[34m B \n",
      "\u001b[31m\u001b[1m    1       2     3      4      5      6      7      8      9     10\u001b[0m\n",
      "\u001b[0m=====\n",
      "Let's get started!\n",
      "It is Player 2 (P2)'s turn,  Alex :\n",
      "You have 15 tokens remaining.\n"
     ]
    }
   ],
   "source": [
    "# This is the main class where the game is played\n",
    "from colorama import Fore, Back, Style\n",
    "from Game import Game\n",
    "playerOneName = input(\"Enter player one's name: \")\n",
    "playerTwoName = input(\"Enter player two's name: \")\n",
    "startGame = Game(playerOneName,playerTwoName) #Creating an object of type Game\n",
    "\n",
    "# Intro Message\n",
    "print(\"Welcome to the X-Rudder Game! Here's the initial board:\")\n",
    "startGame.getBoard().printBoardColors()\n",
    "print(Style.RESET_ALL + \"=====\")\n",
    "print(\"Let's get started!\")\n",
    "\n",
    "# Plays the game\n",
    "startGame.playGame()\n",
    "\n",
    "# Closing Message\n",
    "print(\"Hope you had fun playing, goodbye!\")"
   ]
  },
  {
   "cell_type": "code",
   "execution_count": null,
   "metadata": {},
   "outputs": [],
   "source": []
  },
  {
   "cell_type": "raw",
   "metadata": {},
   "source": []
  },
  {
   "cell_type": "code",
   "execution_count": null,
   "metadata": {},
   "outputs": [],
   "source": []
  }
 ],
 "metadata": {
  "kernelspec": {
   "display_name": "Python 3",
   "language": "python",
   "name": "python3"
  },
  "language_info": {
   "codemirror_mode": {
    "name": "ipython",
    "version": 3
   },
   "file_extension": ".py",
   "mimetype": "text/x-python",
   "name": "python",
   "nbconvert_exporter": "python",
   "pygments_lexer": "ipython3",
   "version": "3.7.0"
  }
 },
 "nbformat": 4,
 "nbformat_minor": 2
}
